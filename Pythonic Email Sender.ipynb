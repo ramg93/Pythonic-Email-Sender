{
 "cells": [
  {
   "cell_type": "markdown",
   "id": "f3d10807",
   "metadata": {},
   "source": [
    "# This Jupyter Notebook goes through a mock email-delivery system involving a given user's invoice.\n",
    "\n",
    "## The main goal is to take a ```.csv``` file containing transactions and to send an email comprising its summary. \n",
    "\n",
    "## The transactions files are structured in the following fashion:\n",
    "### An _ID_ column to differentiate each transaction; a _DATE_ column which, for simplicity sake, will only contain Day/Month; and a _TRANSACTION_  column with movements, which will differentiate credit movements (+) from debit movements (-). \n",
    "## For instance, the following image displays the pandas DataFrame of the ```trxn.csv``` file.\n",
    "![transactions](images/imagestrxn.png)\n",
    "## The email should include the following information:\n",
    "### Total Balance(Credit - Debit movements), Average Credit, Average Debit and the number of transactions per month. \n",
    "### As well, a brief preamble, a signature with a logo and a subject must be included.\n",
    "## The email from the previous ```trxn.csv``` file should look something like this:\n",
    "![email](images/imagesemail_1try.png)\n"
   ]
  },
  {
   "cell_type": "markdown",
   "id": "f693a8b0",
   "metadata": {},
   "source": [
    "## CSV file managment\n",
    "\n",
    "### Using pandas and its built-in datetime utilities, the ```.csv``` files can be handled and processed easily. "
   ]
  },
  {
   "cell_type": "code",
   "execution_count": 15,
   "id": "678791d1",
   "metadata": {},
   "outputs": [],
   "source": [
    "import pandas as pd\n",
    "\n",
    "def csv2Summary(trxns_file):\n",
    "    '''\n",
    "        input =>    \n",
    "            trxns_file: String\n",
    "        output =>   \n",
    "            trxns: Pandas DataFrame\n",
    "            total_balance: Float\n",
    "            avg_credit: Float\n",
    "            avg_debit: Float\n",
    "            monthly_sumarry: String\n",
    "                \n",
    "    '''\n",
    "    #Total Balance\n",
    "    trxns = pd.read_csv(\"trxn.csv\")\n",
    "    total_balance = trxns.transaction.sum() # sum of transactions\n",
    "    #Debit and Credit Averages\n",
    "    trxns[\"DebitorCredit\"] = trxns.transaction.map( lambda x: 'credit' if x > 0 else 'debit')\n",
    "    avg_credit = trxns.loc[trxns.DebitorCredit == \"credit\", 'transaction'].mean()\n",
    "    avg_debit = trxns.loc[trxns.DebitorCredit == \"debit\", 'transaction'].mean()\n",
    "    #Monthly Summaries\n",
    "    trxns.date = pd.to_datetime(trxns.date, format = \"%d/%m\")\n",
    "    trxns['month'] = trxns.date.dt.strftime('%B')\n",
    "    trx_per_month = trxns.month.value_counts()\n",
    "    monthly_summary = \"\"\n",
    "    #Create an html-formatted string to inject into the email body for only the months included\n",
    "    for month, count in zip(trx_per_month.index, trx_per_month):\n",
    "        monthly_summary += f\"<br>Number of transactions in {month}: {count}</br>\\n\"\n",
    "    \n",
    "    return trxns, total_balance, avg_credit, avg_debit, monthly_summary"
   ]
  },
  {
   "cell_type": "markdown",
   "id": "21994a5b",
   "metadata": {},
   "source": [
    "## Pythonic Email Delivery\n",
    "\n",
    "### Using smtplib, SSL and Gmail, emails will be sent to a given account\n",
    "### The authenticaton credentials for the sender will be stored in a pickle file, which only has to be created once. "
   ]
  },
  {
   "cell_type": "markdown",
   "id": "5a1bdda7",
   "metadata": {},
   "source": [
    "## Pickle File for authentication credentials\n",
    "\n",
    "### Fill the credentials dictionary, run the code once, and then erase the entries.\n",
    "\n",
    "### This code will create a ```.pkl``` file which will contain the mailing credentials. If the file already exists, then it will load it. \n",
    "\n",
    "### This way, sharing code is possible without revealing personal credentials;  ```.gitignore``` already includes this ```.pkl``` file, so it's not passed onto the GitHUB repo. "
   ]
  },
  {
   "cell_type": "code",
   "execution_count": 16,
   "id": "c0fe6b12",
   "metadata": {},
   "outputs": [],
   "source": [
    "import pickle\n",
    "import os\n",
    "if not os.path.exists('secret_credentials.pkl'):\n",
    "    credentials={}\n",
    "    credentials['Sender Email'] = \"\" # sender email account\n",
    "    credentials['Sender Password'] = \"\" # sender email account password\n",
    "    credentials['Receiver Email'] = \"\" # receiver email account\n",
    "    with open('secret_credentials.pkl','wb') as f:\n",
    "        pickle.dump(credentials, f)\n",
    "else:\n",
    "    credentials=pickle.load(open('secret_credentials.pkl','rb'))"
   ]
  },
  {
   "cell_type": "code",
   "execution_count": 17,
   "id": "1dee6e56",
   "metadata": {},
   "outputs": [],
   "source": [
    "import smtplib, ssl\n",
    "from email.mime.text import MIMEText\n",
    "from email.mime.image import MIMEImage\n",
    "from email.mime.multipart import MIMEMultipart\n",
    "\n",
    "def createTrxnsSummaryMessage(total_balance, avg_credit, avg_debit, monthly_summary):\n",
    "    '''\n",
    "        Input =>\n",
    "            total_balance: Float\n",
    "            avg_credit: Float\n",
    "            avg_debit: Float\n",
    "            monthly_summary: String\n",
    "        Output=>\n",
    "            message => SMTP.MIMEMultipart Message Object\n",
    "    '''\n",
    "    \n",
    "    message = MIMEMultipart(\"alternative\")\n",
    "\n",
    "    \n",
    "    html = f\"\"\"\n",
    "    <html>\n",
    "        <body>\n",
    "            <div>\n",
    "                <p>\n",
    "                    Hello,<br>Herein is your Transactions Summary<br>\n",
    "                </p>\n",
    "            </div>\n",
    "            <div>\n",
    "                <table style=\"width:100%\">\n",
    "                      <tr>\n",
    "                        <th>\n",
    "                            <p>\n",
    "                                <br>Total Balance: {total_balance}</br>\n",
    "                                <br>Average Debit Amount: {avg_debit}</br>\n",
    "                                <br>Average Credit Amount: {avg_credit}</br>\n",
    "                            </p>\n",
    "                        </th>\n",
    "                        <th>\n",
    "                            <p>\n",
    "                                {monthly_summary}\n",
    "                            </p>\n",
    "                        </th>\n",
    "                      </tr>\n",
    "                </table>\n",
    "            </div>  \n",
    "            <div>\n",
    "                <p>\n",
    "                    <br>Engr. Raúl Armando Murga Garrido</br>\n",
    "                    <br>B. Sc. Mechatronics Engineering</br>\n",
    "                    <br><a href=\"https://www.linkedin.com/in/ra%C3%BAl-murga/\">LinkedIn</a></br>\n",
    "                    <br><a href=\"https://github.com/ramg93\">GitHub</a></br>\n",
    "                    <br><img align=\"left\" width=\"150\" height=\"150\" src=\"cid:image1\"></br>\n",
    "                </p>\n",
    "            </div>\n",
    "        </body>\n",
    "\n",
    "    </html>\n",
    "    \"\"\"\n",
    "    html_text = MIMEText(html, \"html\")\n",
    "    message.attach(html_text)\n",
    "\n",
    "    fp = open('images/imageslogo_knot.png', 'rb')\n",
    "    msgImage = MIMEImage(fp.read())\n",
    "    fp.close()\n",
    "\n",
    "    msgImage.add_header('Content-ID', '<image1>')\n",
    "    message.attach(msgImage)\n",
    "    \n",
    "    return message\n",
    "\n",
    "def sendEmailSLL(credentials, receiver_email, subject, message):\n",
    "    '''\n",
    "        Input =>\n",
    "            credentials: Dict\n",
    "            receiver_email: String\n",
    "            subject: String\n",
    "            message: String}\n",
    "        Output =>\n",
    "            None: print either success or exception\n",
    "    '''\n",
    "    \n",
    "    sender_email = credentials['Sender Email']\n",
    "    password =credentials['Sender Password']\n",
    "    \n",
    "    message[\"Subject\"] = subject\n",
    "    message[\"From\"] = sender_email\n",
    "    message[\"To\"] = receiver_email\n",
    "    \n",
    "    try:\n",
    "        port = 465 # Assign 465 port for the SMTP server (Gmail's requirements)\n",
    "        context = ssl.create_default_context() \n",
    "\n",
    "        with smtplib.SMTP_SSL(\"smtp.gmail.com\", port, context=context) as server:\n",
    "            server.login(sender_email, password)\n",
    "            server.sendmail(\n",
    "                sender_email, \n",
    "                receiver_email, \n",
    "                message.as_string()\n",
    "            )\n",
    "        print(\"email sent successfully\")\n",
    "    except Exception as e:\n",
    "        print(\"error sending email: \", e)"
   ]
  },
  {
   "cell_type": "code",
   "execution_count": 18,
   "id": "7eb5fbf7",
   "metadata": {},
   "outputs": [
    {
     "name": "stdout",
     "output_type": "stream",
     "text": [
      "email sent successfully\n"
     ]
    }
   ],
   "source": [
    "trxns, total_balance, avg_credit, avg_debit, monthly_summary = csv2Summary(\"trxn.csv\")\n",
    "message = createTrxnsSummaryMessage(total_balance, avg_credit, avg_debit, monthly_summary)\n",
    "sendEmailSLL(credentials, credentials['Receiver Email'], \"Transactions Summary\", message)"
   ]
  },
  {
   "cell_type": "markdown",
   "id": "80907c0f",
   "metadata": {},
   "source": [
    "# Application to extend a full service out of the Email Sender. \n",
    "\n",
    "## Now, let's extend the email functionality to an application where more users can be accessed and a better managment of the data is held. \n",
    "\n",
    "## Flask will be the base tool to build the framework and SQLAlchemy will be harnessed to bring together Python and SQL\n",
    "\n",
    "## The following files created with the```%%writefile``` magic command are the basic app structure and the SQL data models."
   ]
  },
  {
   "cell_type": "code",
   "execution_count": 19,
   "id": "aa93e35f",
   "metadata": {},
   "outputs": [
    {
     "name": "stdout",
     "output_type": "stream",
     "text": [
      "Overwriting email_sender_app.py\n"
     ]
    }
   ],
   "source": [
    "%%writefile email_sender_app.py\n",
    "from flask import Flask\n",
    "from flask_sqlalchemy import SQLAlchemy\n",
    "from flask_migrate import Migrate\n",
    "import os\n",
    "\n",
    "app = Flask(__name__)\n",
    "app.config['SECRET_KEY'] = 'secret_key'\n",
    "db_name = \"esa.db\"\n",
    "app.config['SQLALCHEMY_DATABASE_URI'] = f'sqlite:///{db_name}'\n",
    "\n",
    "db = SQLAlchemy(app)\n",
    "migrate = Migrate(app, db)\n",
    "\n",
    "from routes import *\n",
    "\n",
    "if __name__ == '__main__':\n",
    "    app.run(debug=True, host='0.0.0.0')"
   ]
  },
  {
   "cell_type": "code",
   "execution_count": 13,
   "id": "aa20604d",
   "metadata": {},
   "outputs": [
    {
     "name": "stdout",
     "output_type": "stream",
     "text": [
      "Overwriting models.py\n"
     ]
    }
   ],
   "source": [
    "%%writefile models.py\n",
    "from email_sender_app import db\n",
    "from datetime import datetime\n",
    "\n",
    "class User(db.Model):\n",
    "    __tablename__ = 'user'\n",
    "    id = db.Column(db.Integer, primary_key=True)\n",
    "    created_at = db.Column(db.Date, nullable = False, default=datetime.utcnow())\n",
    "    name = db.Column(db.String(255), nullable = False)\n",
    "    lastname = db.Column(db.String(255), nullable = False)\n",
    "    email = db.Column(db.String(255), nullable = False)\n",
    "    # relationships \n",
    "    transactions = db.relationship('Transaction', back_populates='user', cascade=\"all,delete\")# one2many\n",
    "\n",
    "    def __repr__(self):\n",
    "        return f'id = {self.id}: {self.name} {self.lastname}, {self.created_at}'\n",
    "\n",
    "\n",
    "class Transaction(db.Model):\n",
    "    __tablename__ = 'transaction'\n",
    "    id = db.Column(db.Integer, primary_key=True)\n",
    "    created_at = db.Column(db.Date, nullable = False, default=datetime.utcnow())\n",
    "    transaction = db.Column(db.Integer)\n",
    "    # relationships\n",
    "    user_id = db.Column(db.Integer,  db.ForeignKey(\"user.id\"))# many2one\n",
    "    user = db.relationship(\"User\", back_populates=\"transactions\")\n",
    "    \n",
    "    def __repr__(self):\n",
    "        return f'id = {self.id}: {self.transaction}, {self.created_at}'"
   ]
  },
  {
   "cell_type": "code",
   "execution_count": 33,
   "id": "ca6c5235",
   "metadata": {},
   "outputs": [
    {
     "name": "stdout",
     "output_type": "stream",
     "text": [
      "Overwriting routes.py\n"
     ]
    }
   ],
   "source": [
    "%%writefile routes.py\n",
    "from email_sender_app import app, db\n",
    "from flask import render_template, url_for, flash, redirect\n",
    "\n",
    "import models\n",
    "from models import *\n",
    "import forms\n",
    "\n",
    "@app.route('/')\n",
    "def base():\n",
    "    return render_template('base.html')\n",
    "\n",
    "# ***************************************************** Users **************************************************\n",
    "@app.route('/users')\n",
    "def users():\n",
    "    users = models.User.query.all()\n",
    "    return render_template('users.html', users=users)\n",
    "\n",
    "@app.route('/adduser', methods=['GET', 'POST'])\n",
    "def adduser():\n",
    "    form = forms.AddUserForm()\n",
    "    if form.validate_on_submit():\n",
    "        user = models.User(name=form.name.data,\n",
    "                           lastname=form.lastname.data,\n",
    "                           email=form.email.data\n",
    "                                )\n",
    "        db.session.add(user)\n",
    "        db.session.commit()\n",
    "        flash('User added')\n",
    "        return redirect(url_for('users'))\n",
    "    return render_template('adduser.html', form=form)\n",
    "\n",
    "@app.route('/edit_user/<int:user_id>', methods=['GET', 'POST'])\n",
    "def edit_user(user_id):\n",
    "    form = forms.AddUserForm()\n",
    "    user = models.User.query.get(user_id)\n",
    "    print(user)\n",
    "    if user:\n",
    "        if form.validate_on_submit():\n",
    "            user.name = form.name.data\n",
    "            user.lastname = form.lastname.data\n",
    "            user.email = form. email.data\n",
    "\n",
    "            db.session.commit()\n",
    "            flash('User updated')\n",
    "            return redirect(url_for('users'))\n",
    "        \n",
    "        form.name.data = user.name\n",
    "        form.lastname.data = user.lastname\n",
    "        form.email.data = user.email\n",
    "        return render_template('edituser.html', form=form, user_id=user_id)\n",
    "    flash(f'User with id {user_id} does not exit')\n",
    "    return redirect(url_for('users'))\n",
    "\n",
    "\n",
    "@app.route('/delete_user/<int:user_id>', methods=['GET', 'POST'])\n",
    "def delete_user(user_id):\n",
    "    form = forms.DeleteForm()\n",
    "    user = models.User.query.get(user_id)\n",
    "    if user:\n",
    "        if form.validate_on_submit():\n",
    "            if form.submit.data:\n",
    "                db.session.delete(user)\n",
    "                db.session.commit()\n",
    "                flash('User deleted')\n",
    "            return redirect(url_for('users'))\n",
    "        return render_template('deleteuser.html', form=form, user_id=user_id)\n",
    "    flash(f'User with id {user_id} does not exit')\n",
    "    return redirect(url_for('users'))\n",
    "\n",
    "# ***************************************************** Transactions **************************************************\n",
    "@app.route('/transactions')\n",
    "def transactions():\n",
    "    transactions = models.Transaction.query.all()\n",
    "    return render_template('transactions.html', transactions=transactions)\n",
    "\n",
    "@app.route('/addtransaction', methods=['GET', 'POST'])\n",
    "def addtransaction():\n",
    "    form = forms.AddTransactionForm()\n",
    "    if form.validate_on_submit():\n",
    "        user = db.session.query(models.User).filter(models.User.id == form.user.data)[0]\n",
    "        transaction = models.Transaction(transaction=form.transaction.data, \n",
    "                                user_id=user.id,\n",
    "                                user=user\n",
    "                                )\n",
    "# add code to determine university id\n",
    "        db.session.add(transaction)\n",
    "        db.session.commit()\n",
    "        flash('Transaction added')\n",
    "        return redirect(url_for('transactions'))\n",
    "    return render_template('addtransaction.html', form=form)\n",
    "\n",
    "@app.route('/edit_transaction/<int:transaction_id>', methods=['GET', 'POST'])\n",
    "def edit_transaction(transaction_id):\n",
    "    form = forms.AddTransactionForm()\n",
    "    transaction = models.Transaction.query.get(transaction_id)\n",
    "    print(transaction)\n",
    "    if transaction:\n",
    "        if form.validate_on_submit():\n",
    "            user = db.session.query(models.User).filter(models.User.id == form.user.data)[0]\n",
    "            transaction.transaction = form.transaction.data\n",
    "            transaction.user = user\n",
    "            transaction.user_id = user.id\n",
    "\n",
    "            db.session.commit()\n",
    "            flash('Transaction updated')\n",
    "            return redirect(url_for('transactions'))\n",
    "        form.transaction.data = transaction.transaction\n",
    "        form.user.data = transaction.user.id\n",
    "        return render_template('edittransaction.html', form=form, transaction_id=transaction_id)\n",
    "    flash(f'Transaction with id {transaction_id} does not exit')\n",
    "    return redirect(url_for('transaction'))\n",
    "\n",
    "@app.route('/delete_transaction/<int:transaction_id>', methods=['GET', 'POST'])\n",
    "def delete_transaction(transaction_id):\n",
    "    form = forms.DeleteForm()\n",
    "    transaction = models.Transaction.query.get(transaction_id)\n",
    "    if transaction:\n",
    "        if form.validate_on_submit():\n",
    "            if form.submit.data:\n",
    "                db.session.delete(transaction)\n",
    "                db.session.commit()\n",
    "                flash('Transaction deleted')\n",
    "            return redirect(url_for('transactions'))\n",
    "        return render_template('deletetransaction.html', form=form, transaction_id=transaction_id)\n",
    "    flash(f'Transaction with id {transaction_id} does not exit')\n",
    "    return redirect(url_for('transactions'))"
   ]
  },
  {
   "cell_type": "code",
   "execution_count": 15,
   "id": "a59dc13b",
   "metadata": {},
   "outputs": [
    {
     "name": "stdout",
     "output_type": "stream",
     "text": [
      "Overwriting forms.py\n"
     ]
    }
   ],
   "source": [
    "%%writefile forms.py\n",
    "from flask_wtf import FlaskForm\n",
    "from wtforms import StringField, SubmitField, SelectField\n",
    "from wtforms.validators import DataRequired, Email\n",
    "\n",
    "\n",
    "class DeleteForm(FlaskForm):\n",
    "    submit = SubmitField('Delete')\n",
    "\n",
    "\n",
    "class AddUserForm(FlaskForm):\n",
    "    name = StringField('Name', validators=[DataRequired()])\n",
    "    lastname = StringField('Lastname', validators=[DataRequired()])\n",
    "    email = StringField('email', validators=[DataRequired(), Email()])\n",
    "    submit = SubmitField('Submit')\n",
    "    \n",
    "\n",
    "class AddTransactionForm(FlaskForm):\n",
    "    transaction = StringField('Transaction', validators=[DataRequired()])\n",
    "    user = StringField('User ID', validators=[DataRequired()])\n",
    "    submit = SubmitField('Submit')"
   ]
  },
  {
   "cell_type": "markdown",
   "id": "1019a069",
   "metadata": {},
   "source": [
    "# Users"
   ]
  },
  {
   "cell_type": "code",
   "execution_count": 11,
   "id": "0ba4f02f",
   "metadata": {},
   "outputs": [
    {
     "name": "stdout",
     "output_type": "stream",
     "text": [
      "Overwriting templates/users.html\n"
     ]
    }
   ],
   "source": [
    "%%writefile templates/users.html\n",
    "\n",
    "{% extends \"base.html\" %}\n",
    "\n",
    "{% block main %}\n",
    "  {% for user in users %}\n",
    "    <div class=\"card\">\n",
    "      <div class=\"card-body\">\n",
    "        <h3>{{ user.name }} {{ user.lastname }}</h3>\n",
    "        <h4> {{ user.email }}</h4>\n",
    "        <p>Added on {{ user.created_at }}</p>\n",
    "        <a href=\"\" class=\"btn btn-secondary\">Transactions</a>\n",
    "        <a href=\"{{ url_for('edit_user', user_id=user.id) }}\" class=\"btn btn-primary\">Edit</a>\n",
    "        <a href=\"{{ url_for('delete_user', user_id=user.id) }}\" class=\"btn btn-danger\">Delete</a>\n",
    "      </div>\n",
    "    </div>\n",
    "  {% endfor %}\n",
    "{% endblock %}"
   ]
  },
  {
   "cell_type": "code",
   "execution_count": 5,
   "id": "98c3f513",
   "metadata": {},
   "outputs": [
    {
     "name": "stdout",
     "output_type": "stream",
     "text": [
      "Overwriting templates/adduser.html\n"
     ]
    }
   ],
   "source": [
    "%%writefile templates/adduser.html\n",
    "\n",
    "{% extends \"base.html\" %}\n",
    "\n",
    "{% block main %}\n",
    "<div class=\"container-fluid\">\n",
    "  <form action=\"{{ url_for('adduser') }}\" method=\"post\">\n",
    "    {{ form.csrf_token }}\n",
    "    <div class=\"row\">\n",
    "      <div class=\"col\"> \n",
    "        <h3>Add User</h3>\n",
    "      </div>\n",
    "      <div class=\"col\">\n",
    "        {{ form.submit(class=\"btn btn-primary\") }}\n",
    "        <a href=\"{{ url_for('users') }}\" class=\"btn btn-danger\">Cancel</a>\n",
    "      </div>\n",
    "    </div>\n",
    "    <div class=\"row\">\n",
    "      <div class=\"col\">\n",
    "        <h5> Name </h5>\n",
    "        {{ form.name(class=\"form-control\") }}\n",
    "      </div>\n",
    "      <div class=\"col\">\n",
    "        <h5> Lastname </h5>\n",
    "        {{ form.lastname(class=\"form-control\") }}\n",
    "      </div>\n",
    "      <div class=\"col\">\n",
    "        <h5> Email </h5>\n",
    "        {{ form.email(class=\"form-control\") }}\n",
    "      </div>\n",
    "    </div>\n",
    "  </form>\n",
    "</div>\n",
    "{% endblock %}"
   ]
  },
  {
   "cell_type": "code",
   "execution_count": 12,
   "id": "28bea187",
   "metadata": {},
   "outputs": [
    {
     "name": "stdout",
     "output_type": "stream",
     "text": [
      "Overwriting templates/edituser.html\n"
     ]
    }
   ],
   "source": [
    "%%writefile templates/edituser.html\n",
    "\n",
    "{% extends \"base.html\" %}\n",
    "\n",
    "{% block main %}\n",
    "<div class=\"container-fluid\">\n",
    "  <form action=\"{{ url_for('edit_user', user_id=user_id)  }}\" method=\"post\">\n",
    "    {{ form.csrf_token }}\n",
    "    <div class=\"row\">\n",
    "      <div class=\"col\"> \n",
    "        <h3>Add User</h3>\n",
    "      </div>\n",
    "      <div class=\"col\">\n",
    "        {{ form.submit(class=\"btn btn-primary\") }}\n",
    "        <a href=\"{{ url_for('users') }}\" class=\"btn btn-danger\">Cancel</a>\n",
    "      </div>\n",
    "    </div>\n",
    "    <div class=\"row\">\n",
    "      <div class=\"col\">\n",
    "        <h5> Name </h5>\n",
    "        {{ form.name(class=\"form-control\") }}\n",
    "      </div>\n",
    "      <div class=\"col\">\n",
    "        <h5> Lastname </h5>\n",
    "        {{ form.lastname(class=\"form-control\") }}\n",
    "      </div>\n",
    "      <div class=\"col\">\n",
    "        <h5> Email </h5>\n",
    "        {{ form.email(class=\"form-control\") }}\n",
    "      </div>\n",
    "    </div>\n",
    "  </form>\n",
    "</div>\n",
    "{% endblock %}"
   ]
  },
  {
   "cell_type": "code",
   "execution_count": 2,
   "id": "e489613e",
   "metadata": {},
   "outputs": [
    {
     "name": "stdout",
     "output_type": "stream",
     "text": [
      "Writing templates/deleteuser.html\n"
     ]
    }
   ],
   "source": [
    "%%writefile templates/deleteuser.html\n",
    "\n",
    "{% extends \"base.html\" %}\n",
    "\n",
    "{% block main %}\n",
    "<div class=\"container-fluid\">\n",
    "  <form action=\"{{ url_for('delete_user', user_id=user_id) }}\" method=\"post\">\n",
    "    {{ form.csrf_token }}\n",
    "    <p>Are you sure you want to delete the following user?</p>\n",
    "    <div class=\"row\">\n",
    "      <div class=\"col\">\n",
    "        <h3>{{ user_id }}</h3>\n",
    "      </div>\n",
    "      <div class=\"col\">\n",
    "        {{ form.submit(class=\"btn btn-danger\") }}\n",
    "        <a href=\"{{ url_for('users') }}\" class=\"btn btn-primary\">Cancel</a>\n",
    "      </div>\n",
    "    </div>\n",
    "  </form>\n",
    "</div>\n",
    "{% endblock %}\n"
   ]
  },
  {
   "cell_type": "markdown",
   "id": "7f2191d2",
   "metadata": {},
   "source": [
    "# Transactions"
   ]
  },
  {
   "cell_type": "code",
   "execution_count": 30,
   "id": "8c303c79",
   "metadata": {},
   "outputs": [
    {
     "name": "stdout",
     "output_type": "stream",
     "text": [
      "Overwriting templates/transactions.html\n"
     ]
    }
   ],
   "source": [
    "%%writefile templates/transactions.html\n",
    "\n",
    "{% extends \"base.html\" %}\n",
    "\n",
    "{% block main %}\n",
    "  {% for transaction in transactions %}\n",
    "    <div class=\"card\">\n",
    "      <div class=\"card-body\">\n",
    "        <h3>{{ transaction.transaction }}: {{ transaction.user.id }}</h3>\n",
    "        <p>Added on {{ transaction.created_at }}</p>\n",
    "        <a href=\"{{ url_for('edit_transaction', transaction_id=transaction.id) }}\" class=\"btn btn-primary\">Edit</a>\n",
    "        <a href=\"{{ url_for('delete_transaction', transaction_id=transaction.id) }}\" class=\"btn btn-danger\">Delete</a>\n",
    "      </div>\n",
    "    </div>\n",
    "  {% endfor %}\n",
    "{% endblock %}"
   ]
  },
  {
   "cell_type": "code",
   "execution_count": 21,
   "id": "69cfa776",
   "metadata": {},
   "outputs": [
    {
     "name": "stdout",
     "output_type": "stream",
     "text": [
      "Overwriting templates/addtransaction.html\n"
     ]
    }
   ],
   "source": [
    "%%writefile templates/addtransaction.html\n",
    "\n",
    "{% extends \"base.html\" %}\n",
    "\n",
    "{% block main %}\n",
    "<div class=\"container-fluid\">\n",
    "  <form action=\"{{ url_for('addtransaction') }}\" method=\"post\">\n",
    "    {{ form.csrf_token }}\n",
    "    <div class=\"row\">\n",
    "      <div class=\"col\"> \n",
    "        <h3>Add Transaction</h3>\n",
    "      </div>\n",
    "      <div class=\"col\">\n",
    "        {{ form.submit(class=\"btn btn-primary\") }}\n",
    "        <a href=\"{{ url_for('transactions') }}\" class=\"btn btn-danger\">Cancel</a>\n",
    "      </div>\n",
    "    </div>\n",
    "    <div class=\"row\">\n",
    "      <div class=\"col\">\n",
    "        <h5> Transaction </h5>\n",
    "        {{ form.transaction(class=\"form-control\") }}\n",
    "      </div>\n",
    "      <div class=\"col\">\n",
    "        <h5> User </h5>\n",
    "        {{ form.user(class=\"form-control\") }}\n",
    "      </div>\n",
    "    </div>\n",
    "  </form>\n",
    "</div>\n",
    "{% endblock %}"
   ]
  },
  {
   "cell_type": "code",
   "execution_count": 28,
   "id": "c3581dbc",
   "metadata": {},
   "outputs": [
    {
     "name": "stdout",
     "output_type": "stream",
     "text": [
      "Overwriting templates/edittransaction.html\n"
     ]
    }
   ],
   "source": [
    "%%writefile templates/edittransaction.html\n",
    "\n",
    "{% extends \"base.html\" %}\n",
    "\n",
    "{% block main %}\n",
    "<div class=\"container-fluid\">\n",
    "  <form action=\"{{ url_for('edit_transaction', transaction_id=transaction_id) }}\" method=\"post\">\n",
    "    {{ form.csrf_token }}\n",
    "    <div class=\"row\">\n",
    "      <div class=\"col\"> \n",
    "        <h3>Edit Transaction</h3>\n",
    "      </div>\n",
    "      <div class=\"col\">\n",
    "        {{ form.submit(class=\"btn btn-primary\") }}\n",
    "        <a href=\"{{ url_for('transactions') }}\" class=\"btn btn-danger\">Cancel</a>\n",
    "      </div>\n",
    "    </div>\n",
    "    <div class=\"row\">\n",
    "        <div class=\"col\">\n",
    "          <h5> Transaction </h5>\n",
    "          {{ form.transaction(class=\"form-control\") }}\n",
    "        </div>\n",
    "        <div class=\"col\">\n",
    "          <h5> User ID </h5>\n",
    "          {{ form.user(class=\"form-control\") }}\n",
    "        </div>\n",
    "      </div>\n",
    "  </form>\n",
    "</div>\n",
    "{% endblock %}"
   ]
  },
  {
   "cell_type": "code",
   "execution_count": 27,
   "id": "29973ca6",
   "metadata": {},
   "outputs": [
    {
     "name": "stdout",
     "output_type": "stream",
     "text": [
      "Overwriting templates/deletetransaction.html\n"
     ]
    }
   ],
   "source": [
    "%%writefile templates/deletetransaction.html\n",
    "\n",
    "{% extends \"base.html\" %}\n",
    "\n",
    "{% block main %}\n",
    "<div class=\"container-fluid\">\n",
    "  <form action=\"{{ url_for('delete_transaction', transaction_id=transaction_id) }}\" method=\"post\">\n",
    "    {{ form.csrf_token }}\n",
    "    <p>Are you sure you want to delete the following transaction?</p>\n",
    "    <div class=\"row\">\n",
    "      <div class=\"col\">\n",
    "        <h3>{{ transaction_id }}</h3>\n",
    "      </div>\n",
    "      <div class=\"col\">\n",
    "        {{ form.submit(class=\"btn btn-danger\") }}\n",
    "        <a href=\"{{ url_for('transactions') }}\" class=\"btn btn-primary\">Cancel</a>\n",
    "      </div>\n",
    "    </div>\n",
    "  </form>\n",
    "</div>\n",
    "{% endblock %}"
   ]
  },
  {
   "cell_type": "markdown",
   "id": "c6d8120d",
   "metadata": {},
   "source": [
    "# Base"
   ]
  },
  {
   "cell_type": "code",
   "execution_count": 14,
   "id": "d69b4e9a",
   "metadata": {},
   "outputs": [
    {
     "name": "stdout",
     "output_type": "stream",
     "text": [
      "Overwriting templates/base.html\n"
     ]
    }
   ],
   "source": [
    "%%writefile templates/base.html\n",
    "\n",
    "<!doctype html>\n",
    "<html lang=\"en\">\n",
    "  <head>\n",
    "    <!-- Required meta tags -->\n",
    "    <meta charset=\"utf-8\">\n",
    "    <meta name=\"viewport\" content=\"width=device-width, initial-scale=1, shrink-to-fit=yes\">\n",
    "\n",
    "    <!-- Bootstrap CSS -->\n",
    "    <link rel=\"stylesheet\" href=\"https://maxcdn.bootstrapcdn.com/bootstrap/4.0.0/css/bootstrap.min.css\" integrity=\"sha384-Gn5384xqQ1aoWXA+058RXPxPg6fy4IWvTNh0E263XmFcJlSAwiGgFAW/dAiS6JXm\" crossorigin=\"anonymous\">\n",
    "\n",
    "\n",
    "    <script src=\"https://code.jquery.com/jquery-3.2.1.slim.min.js\" integrity=\"sha384-KJ3o2DKtIkvYIK3UENzmM7KCkRr/rE9/Qpg6aAZGJwFDMVNA/GpGFF93hXpG5KkN\" crossorigin=\"anonymous\"></script>\n",
    "    <script src=\"https://cdnjs.cloudflare.com/ajax/libs/popper.js/1.12.9/umd/popper.min.js\" integrity=\"sha384-ApNbgh9B+Y1QKtv3Rn7W3mgPxhU9K/ScQsAP7hUibX39j7fakFPskvXusvfa0b4Q\" crossorigin=\"anonymous\"></script>\n",
    "    <script src=\"https://maxcdn.bootstrapcdn.com/bootstrap/4.0.0/js/bootstrap.min.js\" integrity=\"sha384-JZR6Spejh4U02d8jOt6vLEHfe/JQGiRRSQQxSfFWpi1MquVdAyjUar5+76PVCmYl\" crossorigin=\"anonymous\"></script>\n",
    "    <title>Pythonic Email Sender: Mock Financial Summary System</title>\n",
    "  </head>\n",
    "  <body>\n",
    "    <div class=\"container-fluid\">\n",
    "      <h1 class=\"lead\"> \n",
    "        <a href=\"{{ url_for('base') }}\">Pythonic Email Sender: Mock Financial Summary System</a>\n",
    "      </h1>\n",
    "      <nav class=\"navbar navbar-expand-lg navbar-light bg-light\">\n",
    "        <ul class=\"navbar-nav\">\n",
    "          <li class=\"nav-item dropdown\">\n",
    "            <a class=\"nav-link dropdown-toggle\" href=\"#\" id=\"navbarDropdown\" role=\"button\" data-toggle=\"dropdown\" aria-haspopup=\"true\" aria-expanded=\"false\">\n",
    "              Database Records\n",
    "            </a>\n",
    "            <div class=\"dropdown-menu\" aria-labelledby=\"navbarDropdown\">\n",
    "              <a class=\"dropdown-item\" href=\"{{ url_for('users') }}\">Users</a>\n",
    "              <a class=\"dropdown-item\" href=\"{{ url_for('transactions') }}\">Transactions</a>\n",
    "            </div>\n",
    "          </li>\n",
    "          <li class=\"nav-item dropdown\">\n",
    "            <a class=\"nav-link dropdown-toggle\" href=\"#\" id=\"navbarDropdown\" role=\"button\" data-toggle=\"dropdown\" aria-haspopup=\"true\" aria-expanded=\"false\">\n",
    "              Add Records\n",
    "            </a>\n",
    "            <div class=\"dropdown-menu\" aria-labelledby=\"navbarDropdown\">\n",
    "              <a class=\"dropdown-item\" href=\"{{ url_for('adduser') }}\">Add User</a>\n",
    "              <a class=\"dropdown-item\" href=\"{{ url_for('addtransaction') }}\">Add Transaction</a>\n",
    "            </div>\n",
    "          </li>\n",
    "          <li class=\"nav-item\"><a href=\"\" class=\"nav-link\">Search</a></li>\n",
    "        </ul>\n",
    "      </nav>\n",
    "      <br>\n",
    "      {% with messages = get_flashed_messages() %}\n",
    "        {% if messages %}\n",
    "          {% for message in messages %}\n",
    "          <div class=\"alert alert-primary\">\n",
    "            {{ message }}\n",
    "          </div>\n",
    "          {% endfor %}\n",
    "        {% endif %}\n",
    "      {% endwith %}\n",
    "      <br>\n",
    "      {% block main %}{% endblock %}\n",
    "    </div>\n",
    "  </body>\n",
    "</html>"
   ]
  },
  {
   "cell_type": "code",
   "execution_count": null,
   "id": "fc8a5cac",
   "metadata": {},
   "outputs": [],
   "source": []
  }
 ],
 "metadata": {
  "kernelspec": {
   "display_name": "Python 3 (ipykernel)",
   "language": "python",
   "name": "python3"
  },
  "language_info": {
   "codemirror_mode": {
    "name": "ipython",
    "version": 3
   },
   "file_extension": ".py",
   "mimetype": "text/x-python",
   "name": "python",
   "nbconvert_exporter": "python",
   "pygments_lexer": "ipython3",
   "version": "3.8.13"
  }
 },
 "nbformat": 4,
 "nbformat_minor": 5
}

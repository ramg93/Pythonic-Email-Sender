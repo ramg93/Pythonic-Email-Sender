{
 "cells": [
  {
   "cell_type": "markdown",
   "id": "649c08f8",
   "metadata": {},
   "source": [
    "# This Jupyter Notebook goes through the different development stages of the Python Fullstack Assessment Project for Stori\n",
    "\n",
    "## First steps:\n",
    "\n",
    "* ### Work around CSV file and other data managment to create each message\n",
    "* ### Work around Pythonic Email Delivery\n",
    "\n",
    "## Secondary steps:\n",
    "\n",
    "* ### Work around dockerization\n",
    "* ### Work around extending the system to more than one users\n",
    "* ### Work around AWS DevOps"
   ]
  },
  {
   "cell_type": "markdown",
   "id": "f693a8b0",
   "metadata": {},
   "source": [
    "## CSV file managment\n",
    "\n",
    "### Using pandas and its built-in datetime utilities, the ```.csv``` files can be handled and processed easily. "
   ]
  },
  {
   "cell_type": "code",
   "execution_count": 1,
   "id": "678791d1",
   "metadata": {},
   "outputs": [],
   "source": [
    "import pandas as pd\n",
    "\n",
    "def csv2Summary(trxns_file):\n",
    "    '''\n",
    "        input =>    \n",
    "            trxns_file: String\n",
    "        output =>   \n",
    "            trxns: Pandas DataFrame\n",
    "            total_balance: Float\n",
    "            avg_credit: Float\n",
    "            avg_debit: Float\n",
    "            monthly_sumarry: Sting\n",
    "                \n",
    "    '''\n",
    "    #Total Balance\n",
    "    trxns = pd.read_csv(\"trxn.csv\")\n",
    "    total_balance = trxns.transaction.sum() # sum of transactions\n",
    "    #Debit and Credit Averages\n",
    "    trxns[\"DebitorCredit\"] = trxns.transaction.map( lambda x: 'credit' if x > 0 else 'debit')\n",
    "    avg_credit = trxns.loc[trxns.DebitorCredit == \"credit\", 'transaction'].mean()\n",
    "    avg_debit = trxns.loc[trxns.DebitorCredit == \"debit\", 'transaction'].mean()\n",
    "    #Monthly Summaries\n",
    "    trxns.date = pd.to_datetime(trxns.date, format = \"%d/%m\")\n",
    "    trxns['month'] = trxns.date.dt.strftime('%B')\n",
    "    trx_per_month = trxns.month.value_counts()\n",
    "    monthly_summary = \"\"\n",
    "    for month, count in zip(trx_per_month.index, trx_per_month):\n",
    "        monthly_summary += f\"<br>Number of transactions {month}: {count}<br>\\n\"\n",
    "    \n",
    "    return trxns, total_balance, avg_credit, avg_debit, monthly_summary"
   ]
  },
  {
   "cell_type": "markdown",
   "id": "21994a5b",
   "metadata": {},
   "source": [
    "## Pythonic Email Delivery\n",
    "\n",
    "### Using smtplib, SSL and Gmail, emails will be sent to a given account\n",
    "### The authenticaton credentials for the sender will be stored in a pickle file, which only has to be created once. "
   ]
  },
  {
   "cell_type": "markdown",
   "id": "83376d8d",
   "metadata": {},
   "source": [
    "## Mailing Tools and Generic Email Body.\n",
    "\n",
    "![email_1try.png](email_1try.png)\n",
    "\n",
    "## Add Stori Logo:\n",
    "\n",
    "### Follow Signarture and Logo suggestions from [Exclaimer](https://www.exclaimer.com/email-signature-handbook/using-the-right-email-signature-size/#:~:text=Email%20signature%20size%20dimensions,70%20to%20100%20pixels%20high.)\n",
    "\n",
    "![stori.jpg](stori.jpg)\n",
    "                                                                                                            "
   ]
  },
  {
   "cell_type": "markdown",
   "id": "5a1bdda7",
   "metadata": {},
   "source": [
    "## Pickle File for authentication credentials\n",
    "\n",
    "### Fill the credentials dictionary, run the code once, and then erase the entries.\n",
    "\n",
    "### This code will create a ```.pkl``` file which will contain the mailing credentials. If the file already exists, then it will load it. \n",
    "\n",
    "### This way, sharing code is possible without revealing personal credentials;  ```.gitignore``` already includes this ```.pkl``` file, so it's not passed onto the GitHUB repo. "
   ]
  },
  {
   "cell_type": "code",
   "execution_count": 2,
   "id": "c0fe6b12",
   "metadata": {},
   "outputs": [],
   "source": [
    "import pickle\n",
    "import os\n",
    "if not os.path.exists('secret_credentials.pkl'):\n",
    "    credentials={}\n",
    "    credentials['Sender Email'] = \"\" # sender email account\n",
    "    credentials['Sender Password'] = \"\" # sender email account password\n",
    "    credentials['Receiver Email'] = \"\" # receiver email account\n",
    "    with open('secret_credentials.pkl','wb') as f:\n",
    "        pickle.dump(credentials, f)\n",
    "else:\n",
    "    credentials=pickle.load(open('secret_credentials.pkl','rb'))"
   ]
  },
  {
   "cell_type": "code",
   "execution_count": 3,
   "id": "1dee6e56",
   "metadata": {},
   "outputs": [],
   "source": [
    "import smtplib, ssl\n",
    "from email.mime.text import MIMEText\n",
    "from email.mime.image import MIMEImage\n",
    "from email.mime.multipart import MIMEMultipart\n",
    "\n",
    "def createTrxnsSummaryMessage(total_balance, avg_credit, avg_debit, monthly_summary):\n",
    "    '''\n",
    "        Input =>\n",
    "            total_balance: Float\n",
    "            avg_credit: Float\n",
    "            avg_debit: Float\n",
    "            monthly_summary: String\n",
    "        Output=>\n",
    "            message => SMTP.MIMEMultipart Message Object\n",
    "    '''\n",
    "    \n",
    "    message = MIMEMultipart(\"alternative\")\n",
    "\n",
    "    \n",
    "    html = f\"\"\"\n",
    "    <html>\n",
    "        <body>\n",
    "            <div>\n",
    "                <p>\n",
    "                    Hello,<br>Herein is your Transactions Summary<br>\n",
    "                </p>\n",
    "            </div>\n",
    "            <div>\n",
    "                <table style=\"width:100%\">\n",
    "                      <tr>\n",
    "                        <th>\n",
    "                            <p>\n",
    "                                <br>Total Balance: {total_balance}<br>\n",
    "                                <br>Average Debit Amount: {avg_debit}<br>\n",
    "                                <br>Average Credit Amount: {avg_credit}<br>\n",
    "                            </p>\n",
    "                        </th>\n",
    "                        <th>\n",
    "                            <p>\n",
    "                                {monthly_summary}\n",
    "                            </p>\n",
    "                        </th>\n",
    "                      </tr>\n",
    "                </table>\n",
    "            </div>  \n",
    "            <div>\n",
    "                <br>\n",
    "                    <img align=\"left\" width=\"300\" height=\"100\" src=\"cid:image1\">\n",
    "                <br>\n",
    "            </div>\n",
    "        </body>\n",
    "\n",
    "    </html>\n",
    "    \"\"\"\n",
    "    html_text = MIMEText(html, \"html\")\n",
    "    message.attach(html_text)\n",
    "\n",
    "    fp = open('stori.jpg', 'rb')\n",
    "    msgImage = MIMEImage(fp.read())\n",
    "    fp.close()\n",
    "\n",
    "    msgImage.add_header('Content-ID', '<image1>')\n",
    "    message.attach(msgImage)\n",
    "    \n",
    "    return message\n",
    "\n",
    "def sendEmailSLL(credentials, receiver_email, subject, message):\n",
    "    '''\n",
    "        Input =>\n",
    "            credentials: Dict\n",
    "            receiver_email: String\n",
    "            subject: String\n",
    "            message: String}\n",
    "        Output =>\n",
    "            None: print either success or exception\n",
    "    '''\n",
    "    \n",
    "    sender_email = credentials['Sender Email']\n",
    "    password =credentials['Sender Password']\n",
    "    \n",
    "    message[\"Subject\"] = subject\n",
    "    message[\"From\"] = sender_email\n",
    "    message[\"To\"] = receiver_email\n",
    "    \n",
    "    try:\n",
    "        port = 465 # Assign 465 port for the SMTP server (Gmail's requirements)\n",
    "        context = ssl.create_default_context() \n",
    "\n",
    "        with smtplib.SMTP_SSL(\"smtp.gmail.com\", port, context=context) as server:\n",
    "            server.login(sender_email, password)\n",
    "            server.sendmail(\n",
    "                sender_email, \n",
    "                receiver_email, \n",
    "                message.as_string()\n",
    "            )\n",
    "        print(\"email sent successfully\")\n",
    "    except Exception as e:\n",
    "        print(\"error sending email: \", e)"
   ]
  },
  {
   "cell_type": "code",
   "execution_count": 4,
   "id": "7eb5fbf7",
   "metadata": {},
   "outputs": [
    {
     "name": "stdout",
     "output_type": "stream",
     "text": [
      "email sent successfully\n"
     ]
    }
   ],
   "source": [
    "trxns, total_balance, avg_credit, avg_debit, monthly_summary = csv2Summary(\"trxn.csv\")\n",
    "message = createTrxnsSummaryMessage(total_balance, avg_credit, avg_debit, monthly_summary)\n",
    "sendEmailSLL(credentials, credentials['Receiver Email'], \"Transactions Summary\", message)"
   ]
  },
  {
   "cell_type": "code",
   "execution_count": null,
   "id": "8d5086f3",
   "metadata": {},
   "outputs": [],
   "source": []
  },
  {
   "cell_type": "code",
   "execution_count": null,
   "id": "aa93e35f",
   "metadata": {},
   "outputs": [],
   "source": []
  },
  {
   "cell_type": "code",
   "execution_count": null,
   "id": "aa20604d",
   "metadata": {},
   "outputs": [],
   "source": []
  },
  {
   "cell_type": "code",
   "execution_count": null,
   "id": "ca6c5235",
   "metadata": {},
   "outputs": [],
   "source": []
  },
  {
   "cell_type": "code",
   "execution_count": null,
   "id": "a59dc13b",
   "metadata": {},
   "outputs": [],
   "source": []
  },
  {
   "cell_type": "code",
   "execution_count": null,
   "id": "a9948e6e",
   "metadata": {},
   "outputs": [],
   "source": []
  },
  {
   "cell_type": "code",
   "execution_count": null,
   "id": "0ba4f02f",
   "metadata": {},
   "outputs": [],
   "source": []
  }
 ],
 "metadata": {
  "kernelspec": {
   "display_name": "Python 3 (ipykernel)",
   "language": "python",
   "name": "python3"
  },
  "language_info": {
   "codemirror_mode": {
    "name": "ipython",
    "version": 3
   },
   "file_extension": ".py",
   "mimetype": "text/x-python",
   "name": "python",
   "nbconvert_exporter": "python",
   "pygments_lexer": "ipython3",
   "version": "3.8.13"
  }
 },
 "nbformat": 4,
 "nbformat_minor": 5
}

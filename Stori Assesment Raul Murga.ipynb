{
 "cells": [
  {
   "cell_type": "code",
   "execution_count": 1,
   "id": "47bbd3f5",
   "metadata": {},
   "outputs": [],
   "source": [
    "import smtplib, ssl"
   ]
  },
  {
   "cell_type": "code",
   "execution_count": 6,
   "id": "4e59c8aa",
   "metadata": {},
   "outputs": [],
   "source": [
    "import pickle\n",
    "import os\n",
    "if not os.path.exists('secret_credentials.pkl'):\n",
    "    Google={}\n",
    "    Google['Sender Google Email'] = ''\n",
    "    Google['Sender Password'] = ''\n",
    "    with open('secret_credentials.pkl','wb') as f:\n",
    "        pickle.dump(Google, f)\n",
    "else:\n",
    "    Google=pickle.load(open('secret_credentials.pkl','rb'))"
   ]
  },
  {
   "cell_type": "code",
   "execution_count": 7,
   "id": "2c19fad7",
   "metadata": {},
   "outputs": [],
   "source": [
    "port = 465 \n",
    "context = ssl.create_default_context()\n",
    "\n",
    "with smtplib.SMTP_SSL(\"smtp.gmail.com\", port, context=context) as server:\n",
    "    server.login(Google['Sender Google Email'], Google['Sender Password'])"
   ]
  },
  {
   "cell_type": "code",
   "execution_count": 12,
   "id": "e09b1e6b",
   "metadata": {},
   "outputs": [],
   "source": [
    "sender_email = Google['Sender Google Email']\n",
    "receiver_email = \"\"\n",
    "\n",
    "message = \"\"\"\n",
    "Subject: Test Email\n",
    "    \n",
    "Hello! Test Email sent through Python Coding!\n",
    "\"\"\"\n",
    "\n",
    "with smtplib.SMTP_SSL(\"smtp.gmail.com\", port, context=context) as server:\n",
    "    server.login(Google['Sender Google Email'], Google['Sender Password'])\n",
    "    server.sendmail(sender_email,\n",
    "                    receiver_email,\n",
    "                    message)"
   ]
  },
  {
   "cell_type": "code",
   "execution_count": 15,
   "id": "c4cd7666",
   "metadata": {},
   "outputs": [],
   "source": [
    "import smtplib, ssl\n",
    "from email.mime.text import MIMEText\n",
    "from email.mime.multipart import MIMEMultipart\n",
    "\n",
    "\n",
    "message = MIMEMultipart(\"alternative\")\n",
    "message[\"Subject\"] = \"multipart test\"\n",
    "message[\"From\"] = sender_email\n",
    "message[\"To\"] = receiver_email\n",
    "\n",
    "# Create the plain-text and HTML version of your message\n",
    "text =  \"\"\"\n",
    "Hello! Test Email sent through Python Coding!\n",
    "\"\"\"\n",
    "html = \"\"\"\\\n",
    "<html>\n",
    "  <body>\n",
    "    <p>Hi,<br>\n",
    "       How are you?<br>\n",
    "    </p>\n",
    "  </body>\n",
    "</html>\n",
    "\"\"\"\n",
    "\n",
    "# Turn these into plain/html MIMEText objects\n",
    "part1 = MIMEText(text, \"plain\")\n",
    "part2 = MIMEText(html, \"html\")\n",
    "\n",
    "# Add HTML/plain-text parts to MIMEMultipart message\n",
    "# The email client will try to render the last part first\n",
    "message.attach(part1)\n",
    "message.attach(part2)\n",
    "\n",
    "# Create secure connection with server and send email\n",
    "context = ssl.create_default_context()\n",
    "with smtplib.SMTP_SSL(\"smtp.gmail.com\", 465, context=context) as server:\n",
    "    server.login(sender_email, password)\n",
    "    server.sendmail(\n",
    "        sender_email, receiver_email, message.as_string()\n",
    "    )"
   ]
  },
  {
   "cell_type": "code",
   "execution_count": null,
   "id": "04f5a18e",
   "metadata": {},
   "outputs": [],
   "source": []
  }
 ],
 "metadata": {
  "kernelspec": {
   "display_name": "Python 3 (ipykernel)",
   "language": "python",
   "name": "python3"
  },
  "language_info": {
   "codemirror_mode": {
    "name": "ipython",
    "version": 3
   },
   "file_extension": ".py",
   "mimetype": "text/x-python",
   "name": "python",
   "nbconvert_exporter": "python",
   "pygments_lexer": "ipython3",
   "version": "3.8.13"
  }
 },
 "nbformat": 4,
 "nbformat_minor": 5
}
